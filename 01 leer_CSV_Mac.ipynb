{
 "cells": [
  {
   "cell_type": "markdown",
   "metadata": {},
   "source": [
    "# Como leer .CSV en R"
   ]
  },
  {
   "cell_type": "markdown",
   "metadata": {},
   "source": [
    "### Primero debemos saber donde estamos ejecutando R y copiamos aqui el fichero a leer"
   ]
  },
  {
   "cell_type": "code",
   "execution_count": 30,
   "metadata": {},
   "outputs": [
    {
     "data": {
      "text/html": [
       "'/Users/cristhianteran'"
      ],
      "text/latex": [
       "'/Users/cristhianteran'"
      ],
      "text/markdown": [
       "'/Users/cristhianteran'"
      ],
      "text/plain": [
       "[1] \"/Users/cristhianteran\""
      ]
     },
     "metadata": {},
     "output_type": "display_data"
    }
   ],
   "source": [
    "getwd()"
   ]
  },
  {
   "cell_type": "markdown",
   "metadata": {},
   "source": [
    "### Despues introducimos el fichero en una variable contenedor, en este caso usamos df"
   ]
  },
  {
   "cell_type": "code",
   "execution_count": 32,
   "metadata": {},
   "outputs": [],
   "source": [
    "df<- read.csv(\"swimming_pools.csv\", stringsAsFactors=FALSE)"
   ]
  },
  {
   "cell_type": "markdown",
   "metadata": {},
   "source": [
    "### Podemos ver los datos llamando el contenedor"
   ]
  },
  {
   "cell_type": "code",
   "execution_count": 33,
   "metadata": {},
   "outputs": [
    {
     "data": {
      "text/html": [
       "<table>\n",
       "<thead><tr><th scope=col>Name</th><th scope=col>Address</th><th scope=col>Latitude</th><th scope=col>Longitude</th></tr></thead>\n",
       "<tbody>\n",
       "\t<tr><td>Acacia Ridge Leisure Centre                </td><td>1391 Beaudesert Road, Acacia Ridge         </td><td>-27.58616                                  </td><td>153.0264                                   </td></tr>\n",
       "\t<tr><td>Bellbowrie Pool                            </td><td>Sugarwood Street, Bellbowrie               </td><td>-27.56547                                  </td><td>152.8911                                   </td></tr>\n",
       "\t<tr><td>Carole Park                                </td><td>Cnr Boundary Road and Waterford Road Wacol </td><td>-27.60744                                  </td><td>152.9315                                   </td></tr>\n",
       "\t<tr><td>Centenary Pool (inner City)                </td><td>400 Gregory Terrace, Spring Hill           </td><td>-27.45537                                  </td><td>153.0251                                   </td></tr>\n",
       "\t<tr><td>Chermside Pool                             </td><td>375 Hamilton Road, Chermside               </td><td>-27.38583                                  </td><td>153.0351                                   </td></tr>\n",
       "\t<tr><td>Colmslie Pool (Morningside)                </td><td>400 Lytton Road, Morningside               </td><td>-27.45516                                  </td><td>153.0789                                   </td></tr>\n",
       "\t<tr><td>Spring Hill Baths (inner City)             </td><td>14 Torrington Street, Springhill           </td><td>-27.45960                                  </td><td>153.0215                                   </td></tr>\n",
       "\t<tr><td>Dunlop Park Pool (Corinda)                 </td><td>794 Oxley Road, Corinda                    </td><td>-27.54652                                  </td><td>152.9806                                   </td></tr>\n",
       "\t<tr><td>Fortitude Valley Pool                      </td><td>432 Wickham Street, Fortitude Valley       </td><td>-27.45390                                  </td><td>153.0368                                   </td></tr>\n",
       "\t<tr><td>Hibiscus Sports Complex (upper MtGravatt)  </td><td>90 Klumpp Road, Upper Mount Gravatt        </td><td>-27.55183                                  </td><td>153.0735                                   </td></tr>\n",
       "\t<tr><td>Ithaca Pool ( Paddington)                  </td><td>131 Caxton Street, Paddington              </td><td>-27.46226                                  </td><td>153.0103                                   </td></tr>\n",
       "\t<tr><td>Jindalee Pool                              </td><td>11 Yallambee Road, Jindalee                </td><td>-27.53236                                  </td><td>152.9427                                   </td></tr>\n",
       "\t<tr><td>Manly Pool                                 </td><td>1 Fairlead Crescent, Manly                 </td><td>-27.45228                                  </td><td>153.1874                                   </td></tr>\n",
       "\t<tr><td>Mt Gravatt East Aquatic Centre             </td><td>Cnr wecker Road and Newnham Road, Mansfield</td><td>-27.53214                                  </td><td>153.0943                                   </td></tr>\n",
       "\t<tr><td>Musgrave Park Pool (South Brisbane)        </td><td>100 Edmonstone Street, South Brisbane      </td><td>-27.47978                                  </td><td>153.0168                                   </td></tr>\n",
       "\t<tr><td>Newmarket Pool                             </td><td>71 Alderson Stret, Newmarket               </td><td>-27.42968                                  </td><td>153.0062                                   </td></tr>\n",
       "\t<tr><td>Runcorn Pool                               </td><td>37 Bonemill Road, Runcorn                  </td><td>-27.59156                                  </td><td>153.0764                                   </td></tr>\n",
       "\t<tr><td>Sandgate Pool                              </td><td>231 Flinders Parade, Sandgate              </td><td>-27.31196                                  </td><td>153.0691                                   </td></tr>\n",
       "\t<tr><td>Langlands Parks Pool (Stones Corner)       </td><td>5 Panitya Street, Stones Corner            </td><td>-27.49769                                  </td><td>153.0487                                   </td></tr>\n",
       "\t<tr><td>Yeronga Park Pool                          </td><td>81 School Road, Yeronga                    </td><td>-27.52053                                  </td><td>153.0185                                   </td></tr>\n",
       "</tbody>\n",
       "</table>\n"
      ],
      "text/latex": [
       "\\begin{tabular}{r|llll}\n",
       " Name & Address & Latitude & Longitude\\\\\n",
       "\\hline\n",
       "\t Acacia Ridge Leisure Centre                 & 1391 Beaudesert Road, Acacia Ridge          & -27.58616                                   & 153.0264                                   \\\\\n",
       "\t Bellbowrie Pool                             & Sugarwood Street, Bellbowrie                & -27.56547                                   & 152.8911                                   \\\\\n",
       "\t Carole Park                                 & Cnr Boundary Road and Waterford Road Wacol  & -27.60744                                   & 152.9315                                   \\\\\n",
       "\t Centenary Pool (inner City)                 & 400 Gregory Terrace, Spring Hill            & -27.45537                                   & 153.0251                                   \\\\\n",
       "\t Chermside Pool                              & 375 Hamilton Road, Chermside                & -27.38583                                   & 153.0351                                   \\\\\n",
       "\t Colmslie Pool (Morningside)                 & 400 Lytton Road, Morningside                & -27.45516                                   & 153.0789                                   \\\\\n",
       "\t Spring Hill Baths (inner City)              & 14 Torrington Street, Springhill            & -27.45960                                   & 153.0215                                   \\\\\n",
       "\t Dunlop Park Pool (Corinda)                  & 794 Oxley Road, Corinda                     & -27.54652                                   & 152.9806                                   \\\\\n",
       "\t Fortitude Valley Pool                       & 432 Wickham Street, Fortitude Valley        & -27.45390                                   & 153.0368                                   \\\\\n",
       "\t Hibiscus Sports Complex (upper MtGravatt)   & 90 Klumpp Road, Upper Mount Gravatt         & -27.55183                                   & 153.0735                                   \\\\\n",
       "\t Ithaca Pool ( Paddington)                   & 131 Caxton Street, Paddington               & -27.46226                                   & 153.0103                                   \\\\\n",
       "\t Jindalee Pool                               & 11 Yallambee Road, Jindalee                 & -27.53236                                   & 152.9427                                   \\\\\n",
       "\t Manly Pool                                  & 1 Fairlead Crescent, Manly                  & -27.45228                                   & 153.1874                                   \\\\\n",
       "\t Mt Gravatt East Aquatic Centre              & Cnr wecker Road and Newnham Road, Mansfield & -27.53214                                   & 153.0943                                   \\\\\n",
       "\t Musgrave Park Pool (South Brisbane)         & 100 Edmonstone Street, South Brisbane       & -27.47978                                   & 153.0168                                   \\\\\n",
       "\t Newmarket Pool                              & 71 Alderson Stret, Newmarket                & -27.42968                                   & 153.0062                                   \\\\\n",
       "\t Runcorn Pool                                & 37 Bonemill Road, Runcorn                   & -27.59156                                   & 153.0764                                   \\\\\n",
       "\t Sandgate Pool                               & 231 Flinders Parade, Sandgate               & -27.31196                                   & 153.0691                                   \\\\\n",
       "\t Langlands Parks Pool (Stones Corner)        & 5 Panitya Street, Stones Corner             & -27.49769                                   & 153.0487                                   \\\\\n",
       "\t Yeronga Park Pool                           & 81 School Road, Yeronga                     & -27.52053                                   & 153.0185                                   \\\\\n",
       "\\end{tabular}\n"
      ],
      "text/markdown": [
       "\n",
       "Name | Address | Latitude | Longitude | \n",
       "|---|---|---|---|---|---|---|---|---|---|---|---|---|---|---|---|---|---|---|---|\n",
       "| Acacia Ridge Leisure Centre                 | 1391 Beaudesert Road, Acacia Ridge          | -27.58616                                   | 153.0264                                    | \n",
       "| Bellbowrie Pool                             | Sugarwood Street, Bellbowrie                | -27.56547                                   | 152.8911                                    | \n",
       "| Carole Park                                 | Cnr Boundary Road and Waterford Road Wacol  | -27.60744                                   | 152.9315                                    | \n",
       "| Centenary Pool (inner City)                 | 400 Gregory Terrace, Spring Hill            | -27.45537                                   | 153.0251                                    | \n",
       "| Chermside Pool                              | 375 Hamilton Road, Chermside                | -27.38583                                   | 153.0351                                    | \n",
       "| Colmslie Pool (Morningside)                 | 400 Lytton Road, Morningside                | -27.45516                                   | 153.0789                                    | \n",
       "| Spring Hill Baths (inner City)              | 14 Torrington Street, Springhill            | -27.45960                                   | 153.0215                                    | \n",
       "| Dunlop Park Pool (Corinda)                  | 794 Oxley Road, Corinda                     | -27.54652                                   | 152.9806                                    | \n",
       "| Fortitude Valley Pool                       | 432 Wickham Street, Fortitude Valley        | -27.45390                                   | 153.0368                                    | \n",
       "| Hibiscus Sports Complex (upper MtGravatt)   | 90 Klumpp Road, Upper Mount Gravatt         | -27.55183                                   | 153.0735                                    | \n",
       "| Ithaca Pool ( Paddington)                   | 131 Caxton Street, Paddington               | -27.46226                                   | 153.0103                                    | \n",
       "| Jindalee Pool                               | 11 Yallambee Road, Jindalee                 | -27.53236                                   | 152.9427                                    | \n",
       "| Manly Pool                                  | 1 Fairlead Crescent, Manly                  | -27.45228                                   | 153.1874                                    | \n",
       "| Mt Gravatt East Aquatic Centre              | Cnr wecker Road and Newnham Road, Mansfield | -27.53214                                   | 153.0943                                    | \n",
       "| Musgrave Park Pool (South Brisbane)         | 100 Edmonstone Street, South Brisbane       | -27.47978                                   | 153.0168                                    | \n",
       "| Newmarket Pool                              | 71 Alderson Stret, Newmarket                | -27.42968                                   | 153.0062                                    | \n",
       "| Runcorn Pool                                | 37 Bonemill Road, Runcorn                   | -27.59156                                   | 153.0764                                    | \n",
       "| Sandgate Pool                               | 231 Flinders Parade, Sandgate               | -27.31196                                   | 153.0691                                    | \n",
       "| Langlands Parks Pool (Stones Corner)        | 5 Panitya Street, Stones Corner             | -27.49769                                   | 153.0487                                    | \n",
       "| Yeronga Park Pool                           | 81 School Road, Yeronga                     | -27.52053                                   | 153.0185                                    | \n",
       "\n",
       "\n"
      ],
      "text/plain": [
       "   Name                                     \n",
       "1  Acacia Ridge Leisure Centre              \n",
       "2  Bellbowrie Pool                          \n",
       "3  Carole Park                              \n",
       "4  Centenary Pool (inner City)              \n",
       "5  Chermside Pool                           \n",
       "6  Colmslie Pool (Morningside)              \n",
       "7  Spring Hill Baths (inner City)           \n",
       "8  Dunlop Park Pool (Corinda)               \n",
       "9  Fortitude Valley Pool                    \n",
       "10 Hibiscus Sports Complex (upper MtGravatt)\n",
       "11 Ithaca Pool ( Paddington)                \n",
       "12 Jindalee Pool                            \n",
       "13 Manly Pool                               \n",
       "14 Mt Gravatt East Aquatic Centre           \n",
       "15 Musgrave Park Pool (South Brisbane)      \n",
       "16 Newmarket Pool                           \n",
       "17 Runcorn Pool                             \n",
       "18 Sandgate Pool                            \n",
       "19 Langlands Parks Pool (Stones Corner)     \n",
       "20 Yeronga Park Pool                        \n",
       "   Address                                     Latitude  Longitude\n",
       "1  1391 Beaudesert Road, Acacia Ridge          -27.58616 153.0264 \n",
       "2  Sugarwood Street, Bellbowrie                -27.56547 152.8911 \n",
       "3  Cnr Boundary Road and Waterford Road Wacol  -27.60744 152.9315 \n",
       "4  400 Gregory Terrace, Spring Hill            -27.45537 153.0251 \n",
       "5  375 Hamilton Road, Chermside                -27.38583 153.0351 \n",
       "6  400 Lytton Road, Morningside                -27.45516 153.0789 \n",
       "7  14 Torrington Street, Springhill            -27.45960 153.0215 \n",
       "8  794 Oxley Road, Corinda                     -27.54652 152.9806 \n",
       "9  432 Wickham Street, Fortitude Valley        -27.45390 153.0368 \n",
       "10 90 Klumpp Road, Upper Mount Gravatt         -27.55183 153.0735 \n",
       "11 131 Caxton Street, Paddington               -27.46226 153.0103 \n",
       "12 11 Yallambee Road, Jindalee                 -27.53236 152.9427 \n",
       "13 1 Fairlead Crescent, Manly                  -27.45228 153.1874 \n",
       "14 Cnr wecker Road and Newnham Road, Mansfield -27.53214 153.0943 \n",
       "15 100 Edmonstone Street, South Brisbane       -27.47978 153.0168 \n",
       "16 71 Alderson Stret, Newmarket                -27.42968 153.0062 \n",
       "17 37 Bonemill Road, Runcorn                   -27.59156 153.0764 \n",
       "18 231 Flinders Parade, Sandgate               -27.31196 153.0691 \n",
       "19 5 Panitya Street, Stones Corner             -27.49769 153.0487 \n",
       "20 81 School Road, Yeronga                     -27.52053 153.0185 "
      ]
     },
     "metadata": {},
     "output_type": "display_data"
    }
   ],
   "source": [
    "df"
   ]
  },
  {
   "cell_type": "markdown",
   "metadata": {},
   "source": [
    "### Con el comando str(), podemos ver la estructura de datos en el contenedor"
   ]
  },
  {
   "cell_type": "code",
   "execution_count": 34,
   "metadata": {},
   "outputs": [
    {
     "name": "stdout",
     "output_type": "stream",
     "text": [
      "'data.frame':\t20 obs. of  4 variables:\n",
      " $ Name     : chr  \"Acacia Ridge Leisure Centre\" \"Bellbowrie Pool\" \"Carole Park\" \"Centenary Pool (inner City)\" ...\n",
      " $ Address  : chr  \"1391 Beaudesert Road, Acacia Ridge\" \"Sugarwood Street, Bellbowrie\" \"Cnr Boundary Road and Waterford Road Wacol\" \"400 Gregory Terrace, Spring Hill\" ...\n",
      " $ Latitude : num  -27.6 -27.6 -27.6 -27.5 -27.4 ...\n",
      " $ Longitude: num  153 153 153 153 153 ...\n"
     ]
    }
   ],
   "source": [
    "str(df)"
   ]
  },
  {
   "cell_type": "markdown",
   "metadata": {},
   "source": [
    "### Si queremos que se importen los caracteres como factores debemos anadir stringsAsFactors = TRUE, por defecto esta variable es FALSE\n",
    "read.csv(\"x.csv\", stringsAsFactors = TRUE)"
   ]
  },
  {
   "cell_type": "code",
   "execution_count": 35,
   "metadata": {},
   "outputs": [],
   "source": [
    "pools <- read.csv(\"swimming_pools.csv\", stringsAsFactors = TRUE)"
   ]
  },
  {
   "cell_type": "markdown",
   "metadata": {},
   "source": [
    "### Para finalizar podemos compara la diferencia de importar caracteres como factores, cargando los datos en otro contenedor y visualizando su estructura con str()"
   ]
  },
  {
   "cell_type": "code",
   "execution_count": 36,
   "metadata": {},
   "outputs": [
    {
     "name": "stdout",
     "output_type": "stream",
     "text": [
      "'data.frame':\t20 obs. of  4 variables:\n",
      " $ Name     : Factor w/ 20 levels \"Acacia Ridge Leisure Centre\",..: 1 2 3 4 5 6 19 7 8 9 ...\n",
      " $ Address  : Factor w/ 20 levels \"1 Fairlead Crescent, Manly\",..: 5 20 18 10 9 11 6 15 12 17 ...\n",
      " $ Latitude : num  -27.6 -27.6 -27.6 -27.5 -27.4 ...\n",
      " $ Longitude: num  153 153 153 153 153 ...\n"
     ]
    }
   ],
   "source": [
    "str(pools)"
   ]
  },
  {
   "cell_type": "markdown",
   "metadata": {},
   "source": [
    "## Gracias"
   ]
  },
  {
   "cell_type": "code",
   "execution_count": null,
   "metadata": {},
   "outputs": [],
   "source": []
  }
 ],
 "metadata": {
  "kernelspec": {
   "display_name": "R",
   "language": "R",
   "name": "ir"
  },
  "language_info": {
   "codemirror_mode": "r",
   "file_extension": ".r",
   "mimetype": "text/x-r-source",
   "name": "R",
   "pygments_lexer": "r",
   "version": "3.4.3"
  }
 },
 "nbformat": 4,
 "nbformat_minor": 2
}
